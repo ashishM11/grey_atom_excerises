{
 "cells": [
  {
   "cell_type": "markdown",
   "metadata": {},
   "source": [
    "# IPL Dataset Analysis\n",
    "\n",
    "## Problem Statement\n",
    "We want to know as to what happens during an IPL match which raises several questions in our mind with our limited knowledge about the game called cricket on which it is based. This analysis is done to know as which factors led one of the team to win and how does it matter."
   ]
  },
  {
   "cell_type": "markdown",
   "metadata": {},
   "source": [
    "## About the Dataset :\n",
    "The Indian Premier League (IPL) is a professional T20 cricket league in India contested during April-May of every year by teams representing Indian cities. It is the most-attended cricket league in the world and ranks sixth among all the sports leagues. It has teams with players from around the world and is very competitive and entertaining with a lot of close matches between teams.\n",
    "\n",
    "The IPL and other cricket related datasets are available at [cricsheet.org](https://cricsheet.org/%c2%a0(data). Feel free to visit the website and explore the data by yourself as exploring new sources of data is one of the interesting activities a data scientist gets to do.\n",
    "\n",
    "## About the dataset:\n",
    "Snapshot of the data you will be working on:<br>\n",
    "<br>\n",
    "The dataset 1452 data points and 23 features<br>\n",
    "\n",
    "|Features|Description|\n",
    "|-----|-----|\n",
    "|match_code|Code pertaining to individual match|\n",
    "|date|Date of the match played|\n",
    "|city|Location where the match was played|\n",
    "|team1|team1|\n",
    "|team2|team2|\n",
    "|toss_winner|Who won the toss out of two teams|\n",
    "|toss_decision|toss decision taken by toss winner|\n",
    "|winner|Winner of that match between two teams|\n",
    "|win_type|How did the team won(by wickets or runs etc.)|\n",
    "|win_margin|difference with which the team won| \n",
    "|inning|inning type(1st or 2nd)|\n",
    "|delivery|ball delivery|\n",
    "|batting_team|current team on batting|\n",
    "|batsman|current batsman on strike|\n",
    "|non_striker|batsman on non-strike|\n",
    "|bowler|Current bowler|\n",
    "|runs|runs scored|\n",
    "|extras|extra run scored|\n",
    "|total|total run scored on that delivery including runs and extras|\n",
    "|extras_type|extra run scored by wides or no ball or legby|\n",
    "|player_out|player that got out|\n",
    "|wicket_kind|How did the player got out|\n",
    "|wicket_fielders|Fielder who caught out the player by catch|\n"
   ]
  },
  {
   "cell_type": "markdown",
   "metadata": {},
   "source": [
    "### Analysing data using numpy module"
   ]
  },
  {
   "cell_type": "markdown",
   "metadata": {},
   "source": [
    "### Read the data using numpy module."
   ]
  },
  {
   "cell_type": "code",
   "execution_count": 1,
   "metadata": {},
   "outputs": [],
   "source": [
    "import numpy as np\n",
    "# Not every data format will be in csv there are other file formats also.\n",
    "# This exercise will help you deal with other file formats and how toa read it.\n",
    "path = './data/ipl_matches_small.csv'\n",
    "data_ipl = np.genfromtxt(path, delimiter=',', skip_header=1, dtype=str)\n",
    "\n"
   ]
  },
  {
   "cell_type": "code",
   "execution_count": 2,
   "metadata": {},
   "outputs": [
    {
     "data": {
      "text/plain": [
       "array(['Kolkata Knight Riders', 'Kolkata Knight Riders',\n",
       "       'Kolkata Knight Riders', ..., 'Rajasthan Royals',\n",
       "       'Rajasthan Royals', 'Rajasthan Royals'], dtype='<U21')"
      ]
     },
     "execution_count": 2,
     "metadata": {},
     "output_type": "execute_result"
    }
   ],
   "source": [
    "data_ipl[:,3]"
   ]
  },
  {
   "cell_type": "markdown",
   "metadata": {},
   "source": [
    "### Calculate the unique no. of matches in the provided dataset ?"
   ]
  },
  {
   "cell_type": "code",
   "execution_count": 6,
   "metadata": {},
   "outputs": [
    {
     "name": "stdout",
     "output_type": "stream",
     "text": [
      "['335987' '392197' '392203' '392212' '501226' '729297']\n"
     ]
    }
   ],
   "source": [
    "# How many matches were held in total we need to know so that we can analyze further statistics keeping that in mind.\n",
    "total_unique_matches = np.unique(data_ipl[:,0])\n",
    "print(total_unique_matches)"
   ]
  },
  {
   "cell_type": "markdown",
   "metadata": {},
   "source": [
    "### Find the set of all unique teams that played in the matches in the data set."
   ]
  },
  {
   "cell_type": "code",
   "execution_count": 12,
   "metadata": {},
   "outputs": [],
   "source": [
    "# this exercise deals with you getting to know that which are all those six teams that played in the tournament.\n",
    "\n",
    "total_unique_teams_in_tournament = np.unique(data_ipl[:,3:5])"
   ]
  },
  {
   "cell_type": "code",
   "execution_count": 11,
   "metadata": {},
   "outputs": [
    {
     "name": "stdout",
     "output_type": "stream",
     "text": [
      "['Chennai Super Kings' 'Deccan Chargers' 'Kings XI Punjab'\n",
      " 'Kolkata Knight Riders' 'Mumbai Indians' 'Pune Warriors'\n",
      " 'Rajasthan Royals']\n"
     ]
    }
   ],
   "source": [
    "print(total_unique_teams_in_tournament)"
   ]
  },
  {
   "cell_type": "markdown",
   "metadata": {},
   "source": [
    "### Find sum of all extras in all deliveries in all matches in the dataset"
   ]
  },
  {
   "cell_type": "code",
   "execution_count": 17,
   "metadata": {},
   "outputs": [
    {
     "name": "stdout",
     "output_type": "stream",
     "text": [
      "88\n"
     ]
    }
   ],
   "source": [
    "# An exercise to make you familiar with indexing and slicing up within data.\n",
    "total_arr = np.sum(data_ipl[:,17].astype('int32'))\n",
    "print(total_arr)"
   ]
  },
  {
   "cell_type": "markdown",
   "metadata": {},
   "source": [
    "### Get the array of all delivery numbers when a given player got out. Also mention the wicket type."
   ]
  },
  {
   "cell_type": "code",
   "execution_count": 35,
   "metadata": {},
   "outputs": [
    {
     "name": "stdout",
     "output_type": "stream",
     "text": [
      "['3.2' '5.5' '7.6' '11.4' '15.6' '18.6' '0.4' '2.2' '14.5' '17.2' '18.6'\n",
      " '19.3' '12.2' '13.5' '14.4' '15.1' '16.6' '18.5' '1.7' '2.7' '10.2'\n",
      " '12.1' '12.3' '13.2' '14.5' '15.1' '15.2' '1.5' '5.3' '9.4' '12.6' '17.1'\n",
      " '19.1' '1.4' '1.5' '8.5' '14.1' '15.5' '15.6' '17.1' '17.3' '5.3' '7.2'\n",
      " '8.2' '10.1' '11.1' '14.5' '1.3' '5.2' '6.4' '6.5' '10.5' '12.6' '13.3'\n",
      " '14.2' '18.3' '19.5' '9.2' '9.6' '16.4' '17.2' '17.5' '19.6' '2.4' '3.6'\n",
      " '4.6' '5.3' '12.6' '18.3' '18.5' '19.1' '19.2' '4.5' '6.3' '7.4' '8.6'\n",
      " '16.5' '17.2' '17.4' '18.6' '1.1' '2.3' '4.5' '11.2']\n"
     ]
    }
   ],
   "source": [
    "arr_delivery_no = data_ipl[data_ipl[:,-3] != ''][:,11]\n",
    "print(arr_delivery_no)"
   ]
  },
  {
   "cell_type": "code",
   "execution_count": 36,
   "metadata": {},
   "outputs": [
    {
     "name": "stdout",
     "output_type": "stream",
     "text": [
      "['caught' 'caught' 'caught' 'bowled' 'caught' 'caught' 'bowled' 'bowled'\n",
      " 'caught' 'bowled' 'run out' 'caught' 'lbw' 'caught' 'caught' 'run out'\n",
      " 'caught' 'caught' 'caught' 'caught' 'bowled' 'caught' 'caught' 'caught'\n",
      " 'caught' 'bowled' 'bowled' 'caught' 'caught' 'bowled' 'bowled' 'caught'\n",
      " 'run out' 'caught' 'bowled' 'caught' 'caught' 'bowled' 'bowled' 'caught'\n",
      " 'stumped' 'caught' 'caught' 'caught' 'run out' 'caught' 'caught'\n",
      " 'run out' 'caught' 'caught' 'caught and bowled' 'caught' 'caught'\n",
      " 'caught' 'bowled' 'caught' 'run out' 'caught' 'bowled' 'stumped' 'caught'\n",
      " 'caught' 'caught' 'bowled' 'bowled' 'bowled' 'bowled' 'caught' 'caught'\n",
      " 'run out' 'run out' 'caught' 'bowled' 'caught and bowled' 'stumped' 'lbw'\n",
      " 'lbw' 'bowled' 'caught' 'run out' 'caught' 'caught and bowled' 'caught'\n",
      " 'lbw']\n"
     ]
    }
   ],
   "source": [
    "arr_wicket_type = data_ipl[data_ipl[:,-2] != ''][:,-2]\n",
    "print(arr_wicket_type)"
   ]
  },
  {
   "cell_type": "markdown",
   "metadata": {},
   "source": [
    "### How many matches the team `Mumbai Indians` has won the toss?"
   ]
  },
  {
   "cell_type": "code",
   "execution_count": 88,
   "metadata": {},
   "outputs": [
    {
     "name": "stdout",
     "output_type": "stream",
     "text": [
      "['392197' '392203']\n"
     ]
    }
   ],
   "source": [
    "# this exercise will help you get the statistics on one particular team\n",
    "get_match_no_with_toss = data_ipl[:,[0,5]]\n",
    "mi_with_toss_win = get_match_no_with_toss[:,-1] == 'Mumbai Indians' \n",
    "print(np.unique(get_match_no_with_toss[mi_with_toss_win][:,-2]))"
   ]
  },
  {
   "cell_type": "markdown",
   "metadata": {},
   "source": [
    "### Create a filter that filters only those records where the batsman scored 6 runs. Also who has scored the maximum no. of sixes overall ?"
   ]
  },
  {
   "cell_type": "code",
   "execution_count": 101,
   "metadata": {},
   "outputs": [
    {
     "name": "stdout",
     "output_type": "stream",
     "text": [
      "[['SR Tendulkar' '6']\n",
      " ['SR Tendulkar' '6']\n",
      " ['JP Duminy' '6']\n",
      " ['JP Duminy' '6']\n",
      " ['JP Duminy' '6']\n",
      " ['JP Duminy' '6']\n",
      " ['BJ Hodge' '6']\n",
      " ['BJ Hodge' '6']\n",
      " ['BJ Hodge' '6']\n",
      " ['SR Tendulkar' '6']\n",
      " ['SR Tendulkar' '6']\n",
      " ['ST Jayasuriya' '6']\n",
      " ['ST Jayasuriya' '6']\n",
      " ['SR Tendulkar' '6']\n",
      " ['ST Jayasuriya' '6']\n",
      " ['ST Jayasuriya' '6']\n",
      " ['SR Tendulkar' '6']\n",
      " ['Harbhajan Singh' '6']\n",
      " ['Harbhajan Singh' '6']\n",
      " ['CH Gayle' '6']\n",
      " ['SC Ganguly' '6']\n",
      " ['TL Suman' '6']\n",
      " ['TL Suman' '6']\n",
      " ['AC Gilchrist' '6']\n",
      " ['RG Sharma' '6']\n",
      " ['DR Smith' '6']\n",
      " ['Y Venugopal Rao' '6']\n",
      " ['PR Shah' '6']\n",
      " ['PR Shah' '6']\n",
      " ['RR Raje' '6']\n",
      " ['DR Smith' '6']\n",
      " ['DR Smith' '6']\n",
      " ['DR Smith' '6']\n",
      " ['SV Samson' '6']\n",
      " ['SV Samson' '6']\n",
      " ['SR Watson' '6']\n",
      " ['R Bhatia' '6']\n",
      " ['DS Kulkarni' '6']\n",
      " ['DS Kulkarni' '6']\n",
      " ['MEK Hussey' '6']\n",
      " ['M Vijay' '6']\n",
      " ['MS Dhoni' '6']\n",
      " ['S Badrinath' '6']\n",
      " ['JD Ryder' '6']\n",
      " ['M Manhas' '6']\n",
      " ['K Goel' '6']\n",
      " ['K Goel' '6']\n",
      " ['KC Sangakkara' '6']\n",
      " ['Yuvraj Singh' '6']\n",
      " ['Yuvraj Singh' '6']\n",
      " ['Yuvraj Singh' '6']\n",
      " ['IK Pathan' '6']\n",
      " ['Kamran Akmal' '6']\n",
      " ['SR Watson' '6']\n",
      " ['SR Watson' '6']\n",
      " ['SR Watson' '6']\n",
      " ['SR Watson' '6']\n",
      " ['SR Watson' '6']\n",
      " ['RA Jadeja' '6']]\n"
     ]
    }
   ],
   "source": [
    "# An exercise to know who is the most aggresive player or maybe the scoring player \n",
    "fetch_only_sixes = data_ipl[:,-7]=='6'\n",
    "batsman_with_sixes = data_ipl[fetch_only_sixes][:,[-10,-7]]\n",
    "print(batsman_with_sixes)"
   ]
  },
  {
   "cell_type": "code",
   "execution_count": 117,
   "metadata": {},
   "outputs": [
    {
     "name": "stdout",
     "output_type": "stream",
     "text": [
      "SR Tendulkar\n"
     ]
    }
   ],
   "source": [
    "batsman = np.unique(batsman_with_sixes[:,-2])\n",
    "def get_no_of_six_by_batsman(batsman_name):\n",
    "        get_particular_batsman_sixes = batsman_with_sixes[:,-2] == batsman_name\n",
    "        return batsman_with_sixes[get_particular_batsman_sixes][:,-1].size\n",
    "\n",
    "\n",
    "batsman_with_six_counts = [(b,get_no_of_six_by_batsman(b)) for b in batsman]\n",
    "print(max(batsman_with_six_counts,key=lambda item:item[1])[0])\n"
   ]
  }
 ],
 "metadata": {
  "kernelspec": {
   "display_name": "Python 3",
   "language": "python",
   "name": "python3"
  },
  "language_info": {
   "codemirror_mode": {
    "name": "ipython",
    "version": 3
   },
   "file_extension": ".py",
   "mimetype": "text/x-python",
   "name": "python",
   "nbconvert_exporter": "python",
   "pygments_lexer": "ipython3",
   "version": "3.7.3"
  }
 },
 "nbformat": 4,
 "nbformat_minor": 2
}
